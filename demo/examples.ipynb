{
 "cells": [
  {
   "cell_type": "markdown",
   "id": "8c07a440",
   "metadata": {},
   "source": [
    "# Tessera Demo Notebook\n",
    "\n",
    "Welcome to the Tessera NLP Toolkit! This notebook showcases how to use the modular functions from the `app/` directory for:\n",
    "\n",
    "- Sentiment Analysis (BERT & TextBlob)\n",
    "- Text Summarization\n",
    "- Named Entity Recognition\n",
    "- Question Answering\n",
    "- Preprocessing (Stopwords, Stemming, Lemmatization)\n",
    "- Tokenization"
   ]
  }
 ],
 "metadata": {
  "kernelspec": {
   "display_name": "Python 3",
   "language": "python",
   "name": "python3"
  },
  "language_info": {
   "name": "python",
   "version": "3.13.2"
  }
 },
 "nbformat": 4,
 "nbformat_minor": 5
}
